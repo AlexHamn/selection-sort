{
 "cells": [
  {
   "cell_type": "code",
   "execution_count": null,
   "metadata": {},
   "outputs": [],
   "source": [
    "def selectionSort(data):\n",
    "  start = time.time()\n",
    "  sortedData = data.copy()\n",
    "  n = len(sortedData)\n",
    "  for i in range(n-1):\n",
    "      min = i\n",
    "      for j in range(i+1, n):\n",
    "          if sortedData[j] < sortedData[min]:\n",
    "              min = j\n",
    "      if min != i:\n",
    "          temp = sortedData[i]\n",
    "          sortedData[i] = sortedData[min]\n",
    "          sortedData[min] = temp\n",
    "  end = time.time()\n",
    "  runTime = end - start\n",
    "  return ('Selection Sort', runTime, sortedData)\n"
   ]
  }
 ],
 "metadata": {
  "kernelspec": {
   "display_name": "Python 3",
   "language": "python",
   "name": "python3"
  },
  "language_info": {
   "name": "python",
   "version": "3.10.8 (v3.10.8:aaaf517424, Oct 11 2022, 10:14:40) [Clang 13.0.0 (clang-1300.0.29.30)]"
  },
  "orig_nbformat": 4,
  "vscode": {
   "interpreter": {
    "hash": "aee8b7b246df8f9039afb4144a1f6fd8d2ca17a180786b69acc140d282b71a49"
   }
  }
 },
 "nbformat": 4,
 "nbformat_minor": 2
}
